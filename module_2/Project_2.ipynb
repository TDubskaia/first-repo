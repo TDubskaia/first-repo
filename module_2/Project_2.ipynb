{
 "cells": [
  {
   "cell_type": "markdown",
   "id": "8c166ebe",
   "metadata": {},
   "source": [
    "#### Основная цель проекта\n",
    "Отследить влияние условий жизни учащихся в возрасте от 15 до 22 лет на их успеваемость по математике, чтобы на ранней стадии выявлять студентов, находящихся в группе риска."
   ]
  },
  {
   "cell_type": "code",
   "execution_count": 1,
   "id": "da2269f1",
   "metadata": {},
   "outputs": [
    {
     "name": "stdout",
     "output_type": "stream",
     "text": [
      "<class 'pandas.core.frame.DataFrame'>\n",
      "RangeIndex: 395 entries, 0 to 394\n",
      "Data columns (total 30 columns):\n",
      " #   Column               Non-Null Count  Dtype  \n",
      "---  ------               --------------  -----  \n",
      " 0   school               395 non-null    object \n",
      " 1   sex                  395 non-null    object \n",
      " 2   age                  395 non-null    int64  \n",
      " 3   address              378 non-null    object \n",
      " 4   famsize              368 non-null    object \n",
      " 5   Pstatus              350 non-null    object \n",
      " 6   Medu                 392 non-null    float64\n",
      " 7   Fedu                 371 non-null    float64\n",
      " 8   Mjob                 376 non-null    object \n",
      " 9   Fjob                 359 non-null    object \n",
      " 10  reason               378 non-null    object \n",
      " 11  guardian             364 non-null    object \n",
      " 12  traveltime           367 non-null    float64\n",
      " 13  studytime            388 non-null    float64\n",
      " 14  failures             373 non-null    float64\n",
      " 15  schoolsup            386 non-null    object \n",
      " 16  famsup               356 non-null    object \n",
      " 17  paid                 355 non-null    object \n",
      " 18  activities           381 non-null    object \n",
      " 19  nursery              379 non-null    object \n",
      " 20  studytime, granular  388 non-null    float64\n",
      " 21  higher               375 non-null    object \n",
      " 22  internet             361 non-null    object \n",
      " 23  romantic             364 non-null    object \n",
      " 24  famrel               368 non-null    float64\n",
      " 25  freetime             384 non-null    float64\n",
      " 26  goout                387 non-null    float64\n",
      " 27  health               380 non-null    float64\n",
      " 28  absences             383 non-null    float64\n",
      " 29  score                389 non-null    float64\n",
      "dtypes: float64(12), int64(1), object(17)\n",
      "memory usage: 92.7+ KB\n"
     ]
    }
   ],
   "source": [
    "import pandas as pd\n",
    "import matplotlib.pyplot as plt\n",
    "import seaborn as sns\n",
    "from itertools import combinations\n",
    "from scipy.stats import ttest_ind\n",
    "import numpy as np\n",
    "\n",
    "pd.set_option('display.max_rows', 50)  # показывать больше строк\n",
    "pd.set_option('display.max_columns', 50)  # показывать больше колонок\n",
    "\n",
    "# получаем данные из файла\n",
    "data = pd.read_csv('stud_math.csv')\n",
    "\n",
    "data.info()"
   ]
  },
  {
   "cell_type": "code",
   "execution_count": 2,
   "id": "024f5aff",
   "metadata": {},
   "outputs": [
    {
     "data": {
      "text/html": [
       "<div>\n",
       "<style scoped>\n",
       "    .dataframe tbody tr th:only-of-type {\n",
       "        vertical-align: middle;\n",
       "    }\n",
       "\n",
       "    .dataframe tbody tr th {\n",
       "        vertical-align: top;\n",
       "    }\n",
       "\n",
       "    .dataframe thead th {\n",
       "        text-align: right;\n",
       "    }\n",
       "</style>\n",
       "<table border=\"1\" class=\"dataframe\">\n",
       "  <thead>\n",
       "    <tr style=\"text-align: right;\">\n",
       "      <th></th>\n",
       "      <th>school</th>\n",
       "      <th>sex</th>\n",
       "      <th>age</th>\n",
       "      <th>address</th>\n",
       "      <th>famsize</th>\n",
       "      <th>pstatus</th>\n",
       "      <th>medu</th>\n",
       "      <th>fedu</th>\n",
       "      <th>mjob</th>\n",
       "      <th>fjob</th>\n",
       "      <th>reason</th>\n",
       "      <th>guardian</th>\n",
       "      <th>traveltime</th>\n",
       "      <th>studytime</th>\n",
       "      <th>failures</th>\n",
       "      <th>schoolsup</th>\n",
       "      <th>famsup</th>\n",
       "      <th>paid</th>\n",
       "      <th>activities</th>\n",
       "      <th>nursery</th>\n",
       "      <th>studytime_granular</th>\n",
       "      <th>higher</th>\n",
       "      <th>internet</th>\n",
       "      <th>romantic</th>\n",
       "      <th>famrel</th>\n",
       "      <th>freetime</th>\n",
       "      <th>goout</th>\n",
       "      <th>health</th>\n",
       "      <th>absences</th>\n",
       "      <th>score</th>\n",
       "    </tr>\n",
       "  </thead>\n",
       "  <tbody>\n",
       "    <tr>\n",
       "      <th>0</th>\n",
       "      <td>GP</td>\n",
       "      <td>F</td>\n",
       "      <td>18</td>\n",
       "      <td>U</td>\n",
       "      <td>NaN</td>\n",
       "      <td>A</td>\n",
       "      <td>4.0</td>\n",
       "      <td>4.0</td>\n",
       "      <td>at_home</td>\n",
       "      <td>teacher</td>\n",
       "      <td>course</td>\n",
       "      <td>mother</td>\n",
       "      <td>2.0</td>\n",
       "      <td>2.0</td>\n",
       "      <td>0.0</td>\n",
       "      <td>yes</td>\n",
       "      <td>no</td>\n",
       "      <td>no</td>\n",
       "      <td>no</td>\n",
       "      <td>yes</td>\n",
       "      <td>-6.0</td>\n",
       "      <td>yes</td>\n",
       "      <td>NaN</td>\n",
       "      <td>no</td>\n",
       "      <td>4.0</td>\n",
       "      <td>3.0</td>\n",
       "      <td>4.0</td>\n",
       "      <td>3.0</td>\n",
       "      <td>6.0</td>\n",
       "      <td>30.0</td>\n",
       "    </tr>\n",
       "    <tr>\n",
       "      <th>1</th>\n",
       "      <td>GP</td>\n",
       "      <td>F</td>\n",
       "      <td>17</td>\n",
       "      <td>U</td>\n",
       "      <td>GT3</td>\n",
       "      <td>NaN</td>\n",
       "      <td>1.0</td>\n",
       "      <td>1.0</td>\n",
       "      <td>at_home</td>\n",
       "      <td>other</td>\n",
       "      <td>course</td>\n",
       "      <td>father</td>\n",
       "      <td>1.0</td>\n",
       "      <td>2.0</td>\n",
       "      <td>0.0</td>\n",
       "      <td>no</td>\n",
       "      <td>yes</td>\n",
       "      <td>no</td>\n",
       "      <td>no</td>\n",
       "      <td>no</td>\n",
       "      <td>-6.0</td>\n",
       "      <td>yes</td>\n",
       "      <td>yes</td>\n",
       "      <td>no</td>\n",
       "      <td>5.0</td>\n",
       "      <td>3.0</td>\n",
       "      <td>3.0</td>\n",
       "      <td>3.0</td>\n",
       "      <td>4.0</td>\n",
       "      <td>30.0</td>\n",
       "    </tr>\n",
       "    <tr>\n",
       "      <th>2</th>\n",
       "      <td>GP</td>\n",
       "      <td>F</td>\n",
       "      <td>15</td>\n",
       "      <td>U</td>\n",
       "      <td>LE3</td>\n",
       "      <td>T</td>\n",
       "      <td>1.0</td>\n",
       "      <td>1.0</td>\n",
       "      <td>at_home</td>\n",
       "      <td>other</td>\n",
       "      <td>other</td>\n",
       "      <td>mother</td>\n",
       "      <td>1.0</td>\n",
       "      <td>2.0</td>\n",
       "      <td>3.0</td>\n",
       "      <td>yes</td>\n",
       "      <td>no</td>\n",
       "      <td>NaN</td>\n",
       "      <td>no</td>\n",
       "      <td>yes</td>\n",
       "      <td>-6.0</td>\n",
       "      <td>yes</td>\n",
       "      <td>yes</td>\n",
       "      <td>NaN</td>\n",
       "      <td>4.0</td>\n",
       "      <td>3.0</td>\n",
       "      <td>2.0</td>\n",
       "      <td>3.0</td>\n",
       "      <td>10.0</td>\n",
       "      <td>50.0</td>\n",
       "    </tr>\n",
       "    <tr>\n",
       "      <th>3</th>\n",
       "      <td>GP</td>\n",
       "      <td>F</td>\n",
       "      <td>15</td>\n",
       "      <td>U</td>\n",
       "      <td>GT3</td>\n",
       "      <td>T</td>\n",
       "      <td>4.0</td>\n",
       "      <td>2.0</td>\n",
       "      <td>health</td>\n",
       "      <td>NaN</td>\n",
       "      <td>home</td>\n",
       "      <td>mother</td>\n",
       "      <td>1.0</td>\n",
       "      <td>3.0</td>\n",
       "      <td>0.0</td>\n",
       "      <td>no</td>\n",
       "      <td>yes</td>\n",
       "      <td>yes</td>\n",
       "      <td>yes</td>\n",
       "      <td>yes</td>\n",
       "      <td>-9.0</td>\n",
       "      <td>yes</td>\n",
       "      <td>yes</td>\n",
       "      <td>yes</td>\n",
       "      <td>3.0</td>\n",
       "      <td>2.0</td>\n",
       "      <td>2.0</td>\n",
       "      <td>5.0</td>\n",
       "      <td>2.0</td>\n",
       "      <td>75.0</td>\n",
       "    </tr>\n",
       "    <tr>\n",
       "      <th>4</th>\n",
       "      <td>GP</td>\n",
       "      <td>F</td>\n",
       "      <td>16</td>\n",
       "      <td>U</td>\n",
       "      <td>GT3</td>\n",
       "      <td>T</td>\n",
       "      <td>3.0</td>\n",
       "      <td>3.0</td>\n",
       "      <td>other</td>\n",
       "      <td>other</td>\n",
       "      <td>home</td>\n",
       "      <td>father</td>\n",
       "      <td>1.0</td>\n",
       "      <td>2.0</td>\n",
       "      <td>0.0</td>\n",
       "      <td>no</td>\n",
       "      <td>yes</td>\n",
       "      <td>yes</td>\n",
       "      <td>no</td>\n",
       "      <td>yes</td>\n",
       "      <td>-6.0</td>\n",
       "      <td>yes</td>\n",
       "      <td>no</td>\n",
       "      <td>no</td>\n",
       "      <td>4.0</td>\n",
       "      <td>3.0</td>\n",
       "      <td>2.0</td>\n",
       "      <td>5.0</td>\n",
       "      <td>4.0</td>\n",
       "      <td>50.0</td>\n",
       "    </tr>\n",
       "    <tr>\n",
       "      <th>5</th>\n",
       "      <td>GP</td>\n",
       "      <td>M</td>\n",
       "      <td>16</td>\n",
       "      <td>U</td>\n",
       "      <td>LE3</td>\n",
       "      <td>T</td>\n",
       "      <td>4.0</td>\n",
       "      <td>3.0</td>\n",
       "      <td>services</td>\n",
       "      <td>other</td>\n",
       "      <td>reputation</td>\n",
       "      <td>mother</td>\n",
       "      <td>1.0</td>\n",
       "      <td>2.0</td>\n",
       "      <td>0.0</td>\n",
       "      <td>no</td>\n",
       "      <td>yes</td>\n",
       "      <td>yes</td>\n",
       "      <td>yes</td>\n",
       "      <td>yes</td>\n",
       "      <td>-6.0</td>\n",
       "      <td>yes</td>\n",
       "      <td>yes</td>\n",
       "      <td>no</td>\n",
       "      <td>5.0</td>\n",
       "      <td>4.0</td>\n",
       "      <td>2.0</td>\n",
       "      <td>5.0</td>\n",
       "      <td>10.0</td>\n",
       "      <td>75.0</td>\n",
       "    </tr>\n",
       "    <tr>\n",
       "      <th>6</th>\n",
       "      <td>GP</td>\n",
       "      <td>M</td>\n",
       "      <td>16</td>\n",
       "      <td>NaN</td>\n",
       "      <td>LE3</td>\n",
       "      <td>T</td>\n",
       "      <td>2.0</td>\n",
       "      <td>2.0</td>\n",
       "      <td>other</td>\n",
       "      <td>other</td>\n",
       "      <td>home</td>\n",
       "      <td>mother</td>\n",
       "      <td>1.0</td>\n",
       "      <td>2.0</td>\n",
       "      <td>0.0</td>\n",
       "      <td>no</td>\n",
       "      <td>no</td>\n",
       "      <td>no</td>\n",
       "      <td>no</td>\n",
       "      <td>yes</td>\n",
       "      <td>-6.0</td>\n",
       "      <td>yes</td>\n",
       "      <td>yes</td>\n",
       "      <td>no</td>\n",
       "      <td>4.0</td>\n",
       "      <td>4.0</td>\n",
       "      <td>4.0</td>\n",
       "      <td>3.0</td>\n",
       "      <td>0.0</td>\n",
       "      <td>55.0</td>\n",
       "    </tr>\n",
       "    <tr>\n",
       "      <th>7</th>\n",
       "      <td>GP</td>\n",
       "      <td>F</td>\n",
       "      <td>17</td>\n",
       "      <td>U</td>\n",
       "      <td>GT3</td>\n",
       "      <td>A</td>\n",
       "      <td>4.0</td>\n",
       "      <td>4.0</td>\n",
       "      <td>other</td>\n",
       "      <td>teacher</td>\n",
       "      <td>home</td>\n",
       "      <td>mother</td>\n",
       "      <td>2.0</td>\n",
       "      <td>2.0</td>\n",
       "      <td>0.0</td>\n",
       "      <td>yes</td>\n",
       "      <td>yes</td>\n",
       "      <td>no</td>\n",
       "      <td>no</td>\n",
       "      <td>yes</td>\n",
       "      <td>-6.0</td>\n",
       "      <td>yes</td>\n",
       "      <td>no</td>\n",
       "      <td>no</td>\n",
       "      <td>4.0</td>\n",
       "      <td>1.0</td>\n",
       "      <td>4.0</td>\n",
       "      <td>1.0</td>\n",
       "      <td>6.0</td>\n",
       "      <td>30.0</td>\n",
       "    </tr>\n",
       "    <tr>\n",
       "      <th>8</th>\n",
       "      <td>GP</td>\n",
       "      <td>M</td>\n",
       "      <td>15</td>\n",
       "      <td>U</td>\n",
       "      <td>LE3</td>\n",
       "      <td>A</td>\n",
       "      <td>3.0</td>\n",
       "      <td>2.0</td>\n",
       "      <td>services</td>\n",
       "      <td>other</td>\n",
       "      <td>home</td>\n",
       "      <td>mother</td>\n",
       "      <td>1.0</td>\n",
       "      <td>2.0</td>\n",
       "      <td>0.0</td>\n",
       "      <td>no</td>\n",
       "      <td>yes</td>\n",
       "      <td>yes</td>\n",
       "      <td>no</td>\n",
       "      <td>yes</td>\n",
       "      <td>-6.0</td>\n",
       "      <td>yes</td>\n",
       "      <td>yes</td>\n",
       "      <td>no</td>\n",
       "      <td>NaN</td>\n",
       "      <td>2.0</td>\n",
       "      <td>2.0</td>\n",
       "      <td>1.0</td>\n",
       "      <td>0.0</td>\n",
       "      <td>95.0</td>\n",
       "    </tr>\n",
       "    <tr>\n",
       "      <th>9</th>\n",
       "      <td>GP</td>\n",
       "      <td>M</td>\n",
       "      <td>15</td>\n",
       "      <td>U</td>\n",
       "      <td>NaN</td>\n",
       "      <td>NaN</td>\n",
       "      <td>3.0</td>\n",
       "      <td>4.0</td>\n",
       "      <td>other</td>\n",
       "      <td>other</td>\n",
       "      <td>home</td>\n",
       "      <td>mother</td>\n",
       "      <td>1.0</td>\n",
       "      <td>2.0</td>\n",
       "      <td>0.0</td>\n",
       "      <td>no</td>\n",
       "      <td>yes</td>\n",
       "      <td>yes</td>\n",
       "      <td>yes</td>\n",
       "      <td>yes</td>\n",
       "      <td>-6.0</td>\n",
       "      <td>yes</td>\n",
       "      <td>yes</td>\n",
       "      <td>no</td>\n",
       "      <td>5.0</td>\n",
       "      <td>5.0</td>\n",
       "      <td>1.0</td>\n",
       "      <td>5.0</td>\n",
       "      <td>0.0</td>\n",
       "      <td>75.0</td>\n",
       "    </tr>\n",
       "  </tbody>\n",
       "</table>\n",
       "</div>"
      ],
      "text/plain": [
       "  school sex  age address famsize pstatus  medu  fedu      mjob     fjob  \\\n",
       "0     GP   F   18       U     NaN       A   4.0   4.0   at_home  teacher   \n",
       "1     GP   F   17       U     GT3     NaN   1.0   1.0   at_home    other   \n",
       "2     GP   F   15       U     LE3       T   1.0   1.0   at_home    other   \n",
       "3     GP   F   15       U     GT3       T   4.0   2.0    health      NaN   \n",
       "4     GP   F   16       U     GT3       T   3.0   3.0     other    other   \n",
       "5     GP   M   16       U     LE3       T   4.0   3.0  services    other   \n",
       "6     GP   M   16     NaN     LE3       T   2.0   2.0     other    other   \n",
       "7     GP   F   17       U     GT3       A   4.0   4.0     other  teacher   \n",
       "8     GP   M   15       U     LE3       A   3.0   2.0  services    other   \n",
       "9     GP   M   15       U     NaN     NaN   3.0   4.0     other    other   \n",
       "\n",
       "       reason guardian  traveltime  studytime  failures schoolsup famsup paid  \\\n",
       "0      course   mother         2.0        2.0       0.0       yes     no   no   \n",
       "1      course   father         1.0        2.0       0.0        no    yes   no   \n",
       "2       other   mother         1.0        2.0       3.0       yes     no  NaN   \n",
       "3        home   mother         1.0        3.0       0.0        no    yes  yes   \n",
       "4        home   father         1.0        2.0       0.0        no    yes  yes   \n",
       "5  reputation   mother         1.0        2.0       0.0        no    yes  yes   \n",
       "6        home   mother         1.0        2.0       0.0        no     no   no   \n",
       "7        home   mother         2.0        2.0       0.0       yes    yes   no   \n",
       "8        home   mother         1.0        2.0       0.0        no    yes  yes   \n",
       "9        home   mother         1.0        2.0       0.0        no    yes  yes   \n",
       "\n",
       "  activities nursery  studytime_granular higher internet romantic  famrel  \\\n",
       "0         no     yes                -6.0    yes      NaN       no     4.0   \n",
       "1         no      no                -6.0    yes      yes       no     5.0   \n",
       "2         no     yes                -6.0    yes      yes      NaN     4.0   \n",
       "3        yes     yes                -9.0    yes      yes      yes     3.0   \n",
       "4         no     yes                -6.0    yes       no       no     4.0   \n",
       "5        yes     yes                -6.0    yes      yes       no     5.0   \n",
       "6         no     yes                -6.0    yes      yes       no     4.0   \n",
       "7         no     yes                -6.0    yes       no       no     4.0   \n",
       "8         no     yes                -6.0    yes      yes       no     NaN   \n",
       "9        yes     yes                -6.0    yes      yes       no     5.0   \n",
       "\n",
       "   freetime  goout  health  absences  score  \n",
       "0       3.0    4.0     3.0       6.0   30.0  \n",
       "1       3.0    3.0     3.0       4.0   30.0  \n",
       "2       3.0    2.0     3.0      10.0   50.0  \n",
       "3       2.0    2.0     5.0       2.0   75.0  \n",
       "4       3.0    2.0     5.0       4.0   50.0  \n",
       "5       4.0    2.0     5.0      10.0   75.0  \n",
       "6       4.0    4.0     3.0       0.0   55.0  \n",
       "7       1.0    4.0     1.0       6.0   30.0  \n",
       "8       2.0    2.0     1.0       0.0   95.0  \n",
       "9       5.0    1.0     5.0       0.0   75.0  "
      ]
     },
     "execution_count": 2,
     "metadata": {},
     "output_type": "execute_result"
    }
   ],
   "source": [
    "# переименуем столбцы для удобства\n",
    "data.columns = ['school', 'sex', 'age', 'address', 'famsize', 'pstatus', 'medu', 'fedu', 'mjob', 'fjob', 'reason',\n",
    "                'guardian', 'traveltime', 'studytime', 'failures', 'schoolsup', 'famsup', 'paid', 'activities',\n",
    "                'nursery', 'studytime_granular', 'higher', 'internet', 'romantic', 'famrel', 'freetime', 'goout',\n",
    "                'health', 'absences', 'score']\n",
    "data.head(10)"
   ]
  },
  {
   "cell_type": "code",
   "execution_count": 3,
   "id": "71cab916",
   "metadata": {},
   "outputs": [],
   "source": [
    "# процедура - заменить пропуски на None\n",
    "def delete_pass(x):\n",
    "    x = str(x)\n",
    "    if x.strip() == '':\n",
    "        return None\n",
    "    else:\n",
    "        return x"
   ]
  },
  {
   "cell_type": "code",
   "execution_count": 4,
   "id": "6174b85c",
   "metadata": {},
   "outputs": [],
   "source": [
    "# рассмотрим каждый столбец"
   ]
  },
  {
   "cell_type": "code",
   "execution_count": 5,
   "id": "197ee498",
   "metadata": {},
   "outputs": [
    {
     "name": "stdout",
     "output_type": "stream",
     "text": [
      "Количество уникальных значений: 2\n",
      "GP    349\n",
      "MS     46\n",
      "Name: school, dtype: int64\n",
      "<class 'pandas.core.frame.DataFrame'>\n",
      "RangeIndex: 395 entries, 0 to 394\n",
      "Data columns (total 1 columns):\n",
      " #   Column  Non-Null Count  Dtype \n",
      "---  ------  --------------  ----- \n",
      " 0   school  395 non-null    object\n",
      "dtypes: object(1)\n",
      "memory usage: 3.2+ KB\n"
     ]
    }
   ],
   "source": [
    "# school\n",
    "print(\"Количество уникальных значений:\", data.school.nunique())\n",
    "print(data.school.value_counts())\n",
    "# Рассматриваются две школы\n",
    "data.loc[:, ['school']].info()"
   ]
  },
  {
   "cell_type": "code",
   "execution_count": 6,
   "id": "9cf5e002",
   "metadata": {},
   "outputs": [
    {
     "name": "stdout",
     "output_type": "stream",
     "text": [
      "Количество уникальных значений: 2\n",
      "F    208\n",
      "M    187\n",
      "Name: sex, dtype: int64\n",
      "<class 'pandas.core.frame.DataFrame'>\n",
      "RangeIndex: 395 entries, 0 to 394\n",
      "Data columns (total 1 columns):\n",
      " #   Column  Non-Null Count  Dtype \n",
      "---  ------  --------------  ----- \n",
      " 0   sex     395 non-null    object\n",
      "dtypes: object(1)\n",
      "memory usage: 3.2+ KB\n"
     ]
    }
   ],
   "source": [
    "# sex\n",
    "print(\"Количество уникальных значений:\", data.sex.nunique())\n",
    "print(data.sex.value_counts())\n",
    "data.loc[:, ['sex']].info()"
   ]
  },
  {
   "cell_type": "code",
   "execution_count": 7,
   "id": "3e125aab",
   "metadata": {},
   "outputs": [
    {
     "name": "stdout",
     "output_type": "stream",
     "text": [
      "Количество уникальных значений: 8\n",
      "16    104\n",
      "17     98\n",
      "15     82\n",
      "18     82\n",
      "19     24\n",
      "20      3\n",
      "21      1\n",
      "22      1\n",
      "Name: age, dtype: int64\n",
      "<class 'pandas.core.frame.DataFrame'>\n",
      "RangeIndex: 395 entries, 0 to 394\n",
      "Data columns (total 1 columns):\n",
      " #   Column  Non-Null Count  Dtype\n",
      "---  ------  --------------  -----\n",
      " 0   age     395 non-null    int64\n",
      "dtypes: int64(1)\n",
      "memory usage: 3.2 KB\n"
     ]
    }
   ],
   "source": [
    "# age\n",
    "print(\"Количество уникальных значений:\", data.age.nunique())\n",
    "print(data.age.value_counts())\n",
    "data.loc[:, ['age']].info()"
   ]
  },
  {
   "cell_type": "code",
   "execution_count": 8,
   "id": "6c03ccd8",
   "metadata": {},
   "outputs": [
    {
     "data": {
      "text/plain": [
       "count    395.000000\n",
       "mean      16.696203\n",
       "std        1.276043\n",
       "min       15.000000\n",
       "25%       16.000000\n",
       "50%       17.000000\n",
       "75%       18.000000\n",
       "max       22.000000\n",
       "Name: age, dtype: float64"
      ]
     },
     "execution_count": 8,
     "metadata": {},
     "output_type": "execute_result"
    },
    {
     "data": {
      "image/png": "[encoded data removed]",
      "text/plain": [
       "<Figure size 432x288 with 1 Axes>"
      ]
     },
     "metadata": {
      "needs_background": "light"
     },
     "output_type": "display_data"
    }
   ],
   "source": [
    "# Этот столбец числовой и без пропусков. Поэтому посмотрим на его распределение\n",
    "data.age.hist()\n",
    "data.age.describe()"
   ]
  },
  {
   "cell_type": "code",
   "execution_count": 9,
   "id": "ec0270bd",
   "metadata": {},
   "outputs": [
    {
     "name": "stdout",
     "output_type": "stream",
     "text": [
      "Количество уникальных значений: 2\n",
      "U    295\n",
      "R     83\n",
      "Name: address, dtype: int64\n",
      "<class 'pandas.core.frame.DataFrame'>\n",
      "RangeIndex: 395 entries, 0 to 394\n",
      "Data columns (total 1 columns):\n",
      " #   Column   Non-Null Count  Dtype \n",
      "---  ------   --------------  ----- \n",
      " 0   address  378 non-null    object\n",
      "dtypes: object(1)\n",
      "memory usage: 3.2+ KB\n"
     ]
    }
   ],
   "source": [
    "# address\n",
    "print(\"Количество уникальных значений:\", data.address.nunique())\n",
    "print(data.address.value_counts())\n",
    "data.loc[:, ['address']].info()\n",
    "# есть пропуски\n",
    "# убираем пропуски (заменяем на None)\n",
    "# можно так - data.address = data.address.apply(delete_pass)\n",
    "# можно так - data.address.astype(str).apply(lambda x: None if x.strip() == '' else x)\n",
    "# но ниже сделаем для всех строковых столбцов"
   ]
  },
  {
   "cell_type": "code",
   "execution_count": 10,
   "id": "3d503e44",
   "metadata": {},
   "outputs": [],
   "source": [
    "# обработаем все строковые колонки - убрать пропуски\n",
    "columns_obj_list = data.select_dtypes(include=[np.dtype]).columns\n",
    "for column in columns_obj_list:\n",
    "    data[column] = data[column].apply(delete_pass)"
   ]
  },
  {
   "cell_type": "code",
   "execution_count": 11,
   "id": "f070b0b2",
   "metadata": {},
   "outputs": [
    {
     "name": "stdout",
     "output_type": "stream",
     "text": [
      "<class 'pandas.core.frame.DataFrame'>\n",
      "RangeIndex: 395 entries, 0 to 394\n",
      "Data columns (total 1 columns):\n",
      " #   Column   Non-Null Count  Dtype \n",
      "---  ------   --------------  ----- \n",
      " 0   address  395 non-null    object\n",
      "dtypes: object(1)\n",
      "memory usage: 3.2+ KB\n"
     ]
    }
   ],
   "source": [
    "data.loc[:, ['address']].info()"
   ]
  },
  {
   "cell_type": "code",
   "execution_count": 12,
   "id": "b0f0a722",
   "metadata": {},
   "outputs": [
    {
     "name": "stdout",
     "output_type": "stream",
     "text": [
      "Количество уникальных значений: 3\n",
      "GT3    261\n",
      "LE3    107\n",
      "nan     27\n",
      "Name: famsize, dtype: int64\n",
      "<class 'pandas.core.frame.DataFrame'>\n",
      "RangeIndex: 395 entries, 0 to 394\n",
      "Data columns (total 1 columns):\n",
      " #   Column   Non-Null Count  Dtype \n",
      "---  ------   --------------  ----- \n",
      " 0   famsize  395 non-null    object\n",
      "dtypes: object(1)\n",
      "memory usage: 3.2+ KB\n"
     ]
    }
   ],
   "source": [
    "# famsize\n",
    "print(\"Количество уникальных значений:\", data.famsize.nunique())\n",
    "print(data.famsize.value_counts())\n",
    "data.loc[:, ['famsize']].info()"
   ]
  },
  {
   "cell_type": "code",
   "execution_count": 13,
   "id": "684adfba",
   "metadata": {},
   "outputs": [
    {
     "name": "stdout",
     "output_type": "stream",
     "text": [
      "Количество уникальных значений: 3\n",
      "T      314\n",
      "nan     45\n",
      "A       36\n",
      "Name: pstatus, dtype: int64\n",
      "<class 'pandas.core.frame.DataFrame'>\n",
      "RangeIndex: 395 entries, 0 to 394\n",
      "Data columns (total 1 columns):\n",
      " #   Column   Non-Null Count  Dtype \n",
      "---  ------   --------------  ----- \n",
      " 0   pstatus  395 non-null    object\n",
      "dtypes: object(1)\n",
      "memory usage: 3.2+ KB\n"
     ]
    }
   ],
   "source": [
    "# pstatus\n",
    "print(\"Количество уникальных значений:\", data.pstatus.nunique())\n",
    "print(data.pstatus.value_counts())\n",
    "data.loc[:, ['pstatus']].info()"
   ]
  },
  {
   "cell_type": "code",
   "execution_count": 14,
   "id": "58347854",
   "metadata": {},
   "outputs": [
    {
     "name": "stdout",
     "output_type": "stream",
     "text": [
      "Количество уникальных значений: 5\n",
      "4.0    131\n",
      "2.0    102\n",
      "3.0     97\n",
      "1.0     59\n",
      "0.0      3\n",
      "Name: medu, dtype: int64\n",
      "<class 'pandas.core.frame.DataFrame'>\n",
      "RangeIndex: 395 entries, 0 to 394\n",
      "Data columns (total 1 columns):\n",
      " #   Column  Non-Null Count  Dtype  \n",
      "---  ------  --------------  -----  \n",
      " 0   medu    392 non-null    float64\n",
      "dtypes: float64(1)\n",
      "memory usage: 3.2 KB\n"
     ]
    }
   ],
   "source": [
    "# medu\n",
    "print(\"Количество уникальных значений:\", data.medu.nunique())\n",
    "print(data.medu.value_counts())\n",
    "data.loc[:, ['medu']].info()"
   ]
  },
  {
   "cell_type": "code",
   "execution_count": 15,
   "id": "2a53493b",
   "metadata": {},
   "outputs": [
    {
     "name": "stdout",
     "output_type": "stream",
     "text": [
      "<class 'pandas.core.frame.DataFrame'>\n",
      "RangeIndex: 395 entries, 0 to 394\n",
      "Data columns (total 1 columns):\n",
      " #   Column  Non-Null Count  Dtype  \n",
      "---  ------  --------------  -----  \n",
      " 0   medu    395 non-null    float64\n",
      "dtypes: float64(1)\n",
      "memory usage: 3.2 KB\n",
      "None\n",
      "4.0    131\n",
      "2.0    102\n",
      "3.0    100\n",
      "1.0     59\n",
      "0.0      3\n",
      "Name: medu, dtype: int64\n"
     ]
    }
   ],
   "source": [
    "# есть пропуски\n",
    "# узнаем среднее значение и округлим\n",
    "mean = round(data.medu.mean())\n",
    "# заменим пропуски на среднее\n",
    "data.medu = data.medu.apply(lambda x: mean if np.isnan(x) else x)\n",
    "print(data.loc[:, ['medu']].info())\n",
    "print(data.medu.value_counts())"
   ]
  },
  {
   "cell_type": "code",
   "execution_count": 16,
   "id": "4f5360d5",
   "metadata": {},
   "outputs": [
    {
     "data": {
      "text/plain": [
       "count    395.000000\n",
       "mean       2.751899\n",
       "std        1.094154\n",
       "min        0.000000\n",
       "25%        2.000000\n",
       "50%        3.000000\n",
       "75%        4.000000\n",
       "max        4.000000\n",
       "Name: medu, dtype: float64"
      ]
     },
     "execution_count": 16,
     "metadata": {},
     "output_type": "execute_result"
    },
    {
     "data": {
      "image/png": "[encoded data removed]",
      "text/plain": [
       "<Figure size 432x288 with 1 Axes>"
      ]
     },
     "metadata": {
      "needs_background": "light"
     },
     "output_type": "display_data"
    }
   ],
   "source": [
    "data.medu.hist()\n",
    "data.medu.describe()"
   ]
  },
  {
   "cell_type": "code",
   "execution_count": 17,
   "id": "be0fb834",
   "metadata": {},
   "outputs": [
    {
     "name": "stdout",
     "output_type": "stream",
     "text": [
      "Количество уникальных значений: 6\n",
      "2.0     106\n",
      "3.0      96\n",
      "4.0      88\n",
      "1.0      78\n",
      "0.0       2\n",
      "40.0      1\n",
      "Name: fedu, dtype: int64\n",
      "<class 'pandas.core.frame.DataFrame'>\n",
      "RangeIndex: 395 entries, 0 to 394\n",
      "Data columns (total 1 columns):\n",
      " #   Column  Non-Null Count  Dtype  \n",
      "---  ------  --------------  -----  \n",
      " 0   fedu    371 non-null    float64\n",
      "dtypes: float64(1)\n",
      "memory usage: 3.2 KB\n"
     ]
    }
   ],
   "source": [
    "# fedu\n",
    "print(\"Количество уникальных значений:\", data.fedu.nunique())\n",
    "print(data.fedu.value_counts())\n",
    "data.loc[:, ['fedu']].info()"
   ]
  },
  {
   "cell_type": "code",
   "execution_count": 18,
   "id": "665933ba",
   "metadata": {},
   "outputs": [],
   "source": [
    "# значения могут быть только от 0 до 4, видим, что есть другое\n",
    "# предположим, что это опечатка,заменим на 4, остальные пропуски заменим на среднее\n",
    "data.fedu = data.fedu.apply(lambda x: 4 if x > 4 else x)"
   ]
  },
  {
   "cell_type": "code",
   "execution_count": 19,
   "id": "0daa01b6",
   "metadata": {},
   "outputs": [
    {
     "name": "stdout",
     "output_type": "stream",
     "text": [
      "Количество уникальных значений: 5\n",
      "<class 'pandas.core.frame.DataFrame'>\n",
      "RangeIndex: 395 entries, 0 to 394\n",
      "Data columns (total 1 columns):\n",
      " #   Column  Non-Null Count  Dtype  \n",
      "---  ------  --------------  -----  \n",
      " 0   fedu    395 non-null    float64\n",
      "dtypes: float64(1)\n",
      "memory usage: 3.2 KB\n",
      "None\n"
     ]
    },
    {
     "data": {
      "text/plain": [
       "count    395.000000\n",
       "mean       2.546835\n",
       "std        1.061418\n",
       "min        0.000000\n",
       "25%        2.000000\n",
       "50%        3.000000\n",
       "75%        3.000000\n",
       "max        4.000000\n",
       "Name: fedu, dtype: float64"
      ]
     },
     "execution_count": 19,
     "metadata": {},
     "output_type": "execute_result"
    },
    {
     "data": {
      "image/png": "[encoded data removed]",
      "text/plain": [
       "<Figure size 432x288 with 1 Axes>"
      ]
     },
     "metadata": {
      "needs_background": "light"
     },
     "output_type": "display_data"
    }
   ],
   "source": [
    "# узнаем среднее значение и округлим\n",
    "mean = round(data.fedu.mean())\n",
    "# заменим пропуски на среднее\n",
    "data.fedu = data.fedu.apply(lambda x: mean if np.isnan(x) else x)\n",
    "print(\"Количество уникальных значений:\", data.fedu.nunique())\n",
    "print(data.loc[:, ['fedu']].info())\n",
    "data.fedu.hist()\n",
    "data.fedu.describe()"
   ]
  },
  {
   "cell_type": "code",
   "execution_count": 20,
   "id": "db5dbd93",
   "metadata": {},
   "outputs": [
    {
     "name": "stdout",
     "output_type": "stream",
     "text": [
      "Количество уникальных значений: 6\n",
      "other       133\n",
      "services     98\n",
      "at_home      58\n",
      "teacher      55\n",
      "health       32\n",
      "nan          19\n",
      "Name: mjob, dtype: int64\n",
      "<class 'pandas.core.frame.DataFrame'>\n",
      "RangeIndex: 395 entries, 0 to 394\n",
      "Data columns (total 1 columns):\n",
      " #   Column  Non-Null Count  Dtype \n",
      "---  ------  --------------  ----- \n",
      " 0   mjob    395 non-null    object\n",
      "dtypes: object(1)\n",
      "memory usage: 3.2+ KB\n"
     ]
    }
   ],
   "source": [
    "# mjob\n",
    "print(\"Количество уникальных значений:\", data.mjob.nunique())\n",
    "print(data.mjob.value_counts())\n",
    "data.loc[:, ['mjob']].info()"
   ]
  },
  {
   "cell_type": "code",
   "execution_count": 21,
   "id": "b4adc5b1",
   "metadata": {},
   "outputs": [
    {
     "name": "stdout",
     "output_type": "stream",
     "text": [
      "Количество уникальных значений: 6\n",
      "other       197\n",
      "services    102\n",
      "nan          36\n",
      "teacher      29\n",
      "at_home      16\n",
      "health       15\n",
      "Name: fjob, dtype: int64\n",
      "<class 'pandas.core.frame.DataFrame'>\n",
      "RangeIndex: 395 entries, 0 to 394\n",
      "Data columns (total 1 columns):\n",
      " #   Column  Non-Null Count  Dtype \n",
      "---  ------  --------------  ----- \n",
      " 0   fjob    395 non-null    object\n",
      "dtypes: object(1)\n",
      "memory usage: 3.2+ KB\n"
     ]
    }
   ],
   "source": [
    "# fjob\n",
    "print(\"Количество уникальных значений:\", data.fjob.nunique())\n",
    "print(data.fjob.value_counts())\n",
    "data.loc[:, ['fjob']].info()"
   ]
  },
  {
   "cell_type": "code",
   "execution_count": 22,
   "id": "51b0d494",
   "metadata": {},
   "outputs": [
    {
     "name": "stdout",
     "output_type": "stream",
     "text": [
      "Количество уникальных значений: 5\n",
      "course        137\n",
      "home          104\n",
      "reputation    103\n",
      "other          34\n",
      "nan            17\n",
      "Name: reason, dtype: int64\n",
      "<class 'pandas.core.frame.DataFrame'>\n",
      "RangeIndex: 395 entries, 0 to 394\n",
      "Data columns (total 1 columns):\n",
      " #   Column  Non-Null Count  Dtype \n",
      "---  ------  --------------  ----- \n",
      " 0   reason  395 non-null    object\n",
      "dtypes: object(1)\n",
      "memory usage: 3.2+ KB\n"
     ]
    }
   ],
   "source": [
    "# reason\n",
    "print(\"Количество уникальных значений:\", data.reason.nunique())\n",
    "print(data.reason.value_counts())\n",
    "data.loc[:, ['reason']].info()"
   ]
  },
  {
   "cell_type": "code",
   "execution_count": 23,
   "id": "dc16973f",
   "metadata": {},
   "outputs": [
    {
     "name": "stdout",
     "output_type": "stream",
     "text": [
      "Количество уникальных значений: 4\n",
      "mother    250\n",
      "father     86\n",
      "nan        31\n",
      "other      28\n",
      "Name: guardian, dtype: int64\n",
      "<class 'pandas.core.frame.DataFrame'>\n",
      "RangeIndex: 395 entries, 0 to 394\n",
      "Data columns (total 1 columns):\n",
      " #   Column    Non-Null Count  Dtype \n",
      "---  ------    --------------  ----- \n",
      " 0   guardian  395 non-null    object\n",
      "dtypes: object(1)\n",
      "memory usage: 3.2+ KB\n"
     ]
    }
   ],
   "source": [
    "# guardian\n",
    "print(\"Количество уникальных значений:\", data.guardian.nunique())\n",
    "print(data.guardian.value_counts())\n",
    "data.loc[:, ['guardian']].info()"
   ]
  },
  {
   "cell_type": "code",
   "execution_count": 24,
   "id": "e8fc56ba",
   "metadata": {},
   "outputs": [
    {
     "name": "stdout",
     "output_type": "stream",
     "text": [
      "Количество уникальных значений: 4\n",
      "1.0    242\n",
      "2.0     96\n",
      "3.0     22\n",
      "4.0      7\n",
      "Name: traveltime, dtype: int64\n",
      "<class 'pandas.core.frame.DataFrame'>\n",
      "RangeIndex: 395 entries, 0 to 394\n",
      "Data columns (total 1 columns):\n",
      " #   Column      Non-Null Count  Dtype  \n",
      "---  ------      --------------  -----  \n",
      " 0   traveltime  367 non-null    float64\n",
      "dtypes: float64(1)\n",
      "memory usage: 3.2 KB\n"
     ]
    }
   ],
   "source": [
    "# traveltime\n",
    "print(\"Количество уникальных значений:\", data.traveltime.nunique())\n",
    "print(data.traveltime.value_counts())\n",
    "data.loc[:, ['traveltime']].info()"
   ]
  },
  {
   "cell_type": "code",
   "execution_count": 25,
   "id": "4fd75631",
   "metadata": {},
   "outputs": [
    {
     "name": "stdout",
     "output_type": "stream",
     "text": [
      "1.0    270\n",
      "2.0     96\n",
      "3.0     22\n",
      "4.0      7\n",
      "Name: traveltime, dtype: int64\n",
      "<class 'pandas.core.frame.DataFrame'>\n",
      "RangeIndex: 395 entries, 0 to 394\n",
      "Data columns (total 1 columns):\n",
      " #   Column      Non-Null Count  Dtype  \n",
      "---  ------      --------------  -----  \n",
      " 0   traveltime  395 non-null    float64\n",
      "dtypes: float64(1)\n",
      "memory usage: 3.2 KB\n"
     ]
    }
   ],
   "source": [
    "# узнаем среднее значение и округлим\n",
    "mean = round(data.traveltime.mean())\n",
    "# заменим пропуски на среднее\n",
    "data.traveltime = data.traveltime.apply(lambda x: mean if np.isnan(x) else x)\n",
    "print(data.traveltime.value_counts())\n",
    "data.loc[:, ['traveltime']].info()"
   ]
  },
  {
   "cell_type": "code",
   "execution_count": 26,
   "id": "bb860de9",
   "metadata": {},
   "outputs": [
    {
     "name": "stdout",
     "output_type": "stream",
     "text": [
      "Количество уникальных значений: 4\n",
      "2.0    194\n",
      "1.0    103\n",
      "3.0     64\n",
      "4.0     27\n",
      "Name: studytime, dtype: int64\n",
      "<class 'pandas.core.frame.DataFrame'>\n",
      "RangeIndex: 395 entries, 0 to 394\n",
      "Data columns (total 1 columns):\n",
      " #   Column     Non-Null Count  Dtype  \n",
      "---  ------     --------------  -----  \n",
      " 0   studytime  388 non-null    float64\n",
      "dtypes: float64(1)\n",
      "memory usage: 3.2 KB\n"
     ]
    }
   ],
   "source": [
    "# studytime\n",
    "print(\"Количество уникальных значений:\", data.studytime.nunique())\n",
    "print(data.studytime.value_counts())\n",
    "data.loc[:, ['studytime']].info()"
   ]
  },
  {
   "cell_type": "code",
   "execution_count": 27,
   "id": "be340b71",
   "metadata": {},
   "outputs": [
    {
     "name": "stdout",
     "output_type": "stream",
     "text": [
      "2.0    201\n",
      "1.0    103\n",
      "3.0     64\n",
      "4.0     27\n",
      "Name: studytime, dtype: int64\n",
      "<class 'pandas.core.frame.DataFrame'>\n",
      "RangeIndex: 395 entries, 0 to 394\n",
      "Data columns (total 1 columns):\n",
      " #   Column     Non-Null Count  Dtype  \n",
      "---  ------     --------------  -----  \n",
      " 0   studytime  395 non-null    float64\n",
      "dtypes: float64(1)\n",
      "memory usage: 3.2 KB\n"
     ]
    }
   ],
   "source": [
    "# узнаем среднее значение и округлим\n",
    "mean = round(data.studytime.mean())\n",
    "# заменим пропуски на среднее\n",
    "data.studytime = data.studytime.apply(lambda x: mean if np.isnan(x) else x)\n",
    "print(data.studytime.value_counts())\n",
    "data.loc[:, ['studytime']].info()"
   ]
  },
  {
   "cell_type": "code",
   "execution_count": 28,
   "id": "4e52f9ff",
   "metadata": {},
   "outputs": [
    {
     "name": "stdout",
     "output_type": "stream",
     "text": [
      "Количество уникальных значений: 4\n",
      "0.0    293\n",
      "1.0     49\n",
      "2.0     16\n",
      "3.0     15\n",
      "Name: failures, dtype: int64\n",
      "<class 'pandas.core.frame.DataFrame'>\n",
      "RangeIndex: 395 entries, 0 to 394\n",
      "Data columns (total 1 columns):\n",
      " #   Column    Non-Null Count  Dtype  \n",
      "---  ------    --------------  -----  \n",
      " 0   failures  373 non-null    float64\n",
      "dtypes: float64(1)\n",
      "memory usage: 3.2 KB\n"
     ]
    }
   ],
   "source": [
    "# failures\n",
    "print(\"Количество уникальных значений:\", data.failures.nunique())\n",
    "print(data.failures.value_counts())\n",
    "data.loc[:, ['failures']].info()"
   ]
  },
  {
   "cell_type": "code",
   "execution_count": 29,
   "id": "9143aecd",
   "metadata": {},
   "outputs": [
    {
     "name": "stdout",
     "output_type": "stream",
     "text": [
      "0.0    315\n",
      "1.0     49\n",
      "2.0     16\n",
      "3.0     15\n",
      "Name: failures, dtype: int64\n",
      "<class 'pandas.core.frame.DataFrame'>\n",
      "RangeIndex: 395 entries, 0 to 394\n",
      "Data columns (total 1 columns):\n",
      " #   Column    Non-Null Count  Dtype  \n",
      "---  ------    --------------  -----  \n",
      " 0   failures  395 non-null    float64\n",
      "dtypes: float64(1)\n",
      "memory usage: 3.2 KB\n"
     ]
    }
   ],
   "source": [
    "# узнаем среднее значение и округлим\n",
    "mean = round(data.failures.mean())\n",
    "# заменим пропуски на среднее\n",
    "data.failures = data.failures.apply(lambda x: mean if np.isnan(x) else x)\n",
    "print(data.failures.value_counts())\n",
    "data.loc[:, ['failures']].info()"
   ]
  },
  {
   "cell_type": "code",
   "execution_count": 30,
   "id": "f420fb5b",
   "metadata": {},
   "outputs": [
    {
     "name": "stdout",
     "output_type": "stream",
     "text": [
      "Количество уникальных значений: 3\n",
      "no     335\n",
      "yes     51\n",
      "nan      9\n",
      "Name: schoolsup, dtype: int64\n",
      "<class 'pandas.core.frame.DataFrame'>\n",
      "RangeIndex: 395 entries, 0 to 394\n",
      "Data columns (total 1 columns):\n",
      " #   Column     Non-Null Count  Dtype \n",
      "---  ------     --------------  ----- \n",
      " 0   schoolsup  395 non-null    object\n",
      "dtypes: object(1)\n",
      "memory usage: 3.2+ KB\n"
     ]
    }
   ],
   "source": [
    "# schoolsup\n",
    "print(\"Количество уникальных значений:\", data.schoolsup.nunique())\n",
    "print(data.schoolsup.value_counts())\n",
    "data.loc[:, ['schoolsup']].info()"
   ]
  },
  {
   "cell_type": "code",
   "execution_count": 31,
   "id": "72ba96bc",
   "metadata": {},
   "outputs": [
    {
     "name": "stdout",
     "output_type": "stream",
     "text": [
      "Количество уникальных значений: 3\n",
      "yes    219\n",
      "no     137\n",
      "nan     39\n",
      "Name: famsup, dtype: int64\n",
      "<class 'pandas.core.frame.DataFrame'>\n",
      "RangeIndex: 395 entries, 0 to 394\n",
      "Data columns (total 1 columns):\n",
      " #   Column  Non-Null Count  Dtype \n",
      "---  ------  --------------  ----- \n",
      " 0   famsup  395 non-null    object\n",
      "dtypes: object(1)\n",
      "memory usage: 3.2+ KB\n"
     ]
    }
   ],
   "source": [
    "# famsup\n",
    "print(\"Количество уникальных значений:\", data.famsup.nunique())\n",
    "print(data.famsup.value_counts())\n",
    "data.loc[:, ['famsup']].info()"
   ]
  },
  {
   "cell_type": "code",
   "execution_count": 32,
   "id": "42b391d5",
   "metadata": {},
   "outputs": [
    {
     "name": "stdout",
     "output_type": "stream",
     "text": [
      "Количество уникальных значений: 3\n",
      "no     200\n",
      "yes    155\n",
      "nan     40\n",
      "Name: paid, dtype: int64\n",
      "<class 'pandas.core.frame.DataFrame'>\n",
      "RangeIndex: 395 entries, 0 to 394\n",
      "Data columns (total 1 columns):\n",
      " #   Column  Non-Null Count  Dtype \n",
      "---  ------  --------------  ----- \n",
      " 0   famsup  395 non-null    object\n",
      "dtypes: object(1)\n",
      "memory usage: 3.2+ KB\n"
     ]
    }
   ],
   "source": [
    "# paid\n",
    "print(\"Количество уникальных значений:\", data.paid.nunique())\n",
    "print(data.paid.value_counts())\n",
    "data.loc[:, ['famsup']].info()"
   ]
  },
  {
   "cell_type": "code",
   "execution_count": 33,
   "id": "f3dd8253",
   "metadata": {},
   "outputs": [
    {
     "name": "stdout",
     "output_type": "stream",
     "text": [
      "Количество уникальных значений: 3\n",
      "yes    195\n",
      "no     186\n",
      "nan     14\n",
      "Name: activities, dtype: int64\n",
      "<class 'pandas.core.frame.DataFrame'>\n",
      "RangeIndex: 395 entries, 0 to 394\n",
      "Data columns (total 1 columns):\n",
      " #   Column      Non-Null Count  Dtype \n",
      "---  ------      --------------  ----- \n",
      " 0   activities  395 non-null    object\n",
      "dtypes: object(1)\n",
      "memory usage: 3.2+ KB\n"
     ]
    }
   ],
   "source": [
    "# activities\n",
    "print(\"Количество уникальных значений:\", data.activities.nunique())\n",
    "print(data.activities.value_counts())\n",
    "data.loc[:, ['activities']].info()"
   ]
  },
  {
   "cell_type": "code",
   "execution_count": 34,
   "id": "350ac5d8",
   "metadata": {},
   "outputs": [
    {
     "name": "stdout",
     "output_type": "stream",
     "text": [
      "Количество уникальных значений: 3\n",
      "yes    300\n",
      "no      79\n",
      "nan     16\n",
      "Name: nursery, dtype: int64\n",
      "<class 'pandas.core.frame.DataFrame'>\n",
      "RangeIndex: 395 entries, 0 to 394\n",
      "Data columns (total 1 columns):\n",
      " #   Column   Non-Null Count  Dtype \n",
      "---  ------   --------------  ----- \n",
      " 0   nursery  395 non-null    object\n",
      "dtypes: object(1)\n",
      "memory usage: 3.2+ KB\n"
     ]
    }
   ],
   "source": [
    "# nursery\n",
    "print(\"Количество уникальных значений:\", data.nursery.nunique())\n",
    "print(data.nursery.value_counts())\n",
    "data.loc[:, ['nursery']].info()"
   ]
  },
  {
   "cell_type": "code",
   "execution_count": 35,
   "id": "4187f3ad",
   "metadata": {},
   "outputs": [
    {
     "name": "stdout",
     "output_type": "stream",
     "text": [
      "Количество уникальных значений: 3\n",
      "yes    356\n",
      "nan     20\n",
      "no      19\n",
      "Name: higher, dtype: int64\n",
      "<class 'pandas.core.frame.DataFrame'>\n",
      "RangeIndex: 395 entries, 0 to 394\n",
      "Data columns (total 1 columns):\n",
      " #   Column  Non-Null Count  Dtype \n",
      "---  ------  --------------  ----- \n",
      " 0   higher  395 non-null    object\n",
      "dtypes: object(1)\n",
      "memory usage: 3.2+ KB\n"
     ]
    }
   ],
   "source": [
    "# higher\n",
    "print(\"Количество уникальных значений:\", data.higher.nunique())\n",
    "print(data.higher.value_counts())\n",
    "data.loc[:, ['higher']].info()"
   ]
  },
  {
   "cell_type": "code",
   "execution_count": 36,
   "id": "a80df8f4",
   "metadata": {},
   "outputs": [
    {
     "name": "stdout",
     "output_type": "stream",
     "text": [
      "Количество уникальных значений: 3\n",
      "yes    305\n",
      "no      56\n",
      "nan     34\n",
      "Name: internet, dtype: int64\n",
      "<class 'pandas.core.frame.DataFrame'>\n",
      "RangeIndex: 395 entries, 0 to 394\n",
      "Data columns (total 1 columns):\n",
      " #   Column    Non-Null Count  Dtype \n",
      "---  ------    --------------  ----- \n",
      " 0   internet  395 non-null    object\n",
      "dtypes: object(1)\n",
      "memory usage: 3.2+ KB\n"
     ]
    }
   ],
   "source": [
    "# internet\n",
    "print(\"Количество уникальных значений:\", data.internet.nunique())\n",
    "print(data.internet.value_counts())\n",
    "data.loc[:, ['internet']].info()"
   ]
  },
  {
   "cell_type": "code",
   "execution_count": 37,
   "id": "96bdad9a",
   "metadata": {},
   "outputs": [
    {
     "name": "stdout",
     "output_type": "stream",
     "text": [
      "Количество уникальных значений: 3\n",
      "no     240\n",
      "yes    124\n",
      "nan     31\n",
      "Name: romantic, dtype: int64\n",
      "<class 'pandas.core.frame.DataFrame'>\n",
      "RangeIndex: 395 entries, 0 to 394\n",
      "Data columns (total 1 columns):\n",
      " #   Column    Non-Null Count  Dtype \n",
      "---  ------    --------------  ----- \n",
      " 0   romantic  395 non-null    object\n",
      "dtypes: object(1)\n",
      "memory usage: 3.2+ KB\n"
     ]
    }
   ],
   "source": [
    "# romantic\n",
    "print(\"Количество уникальных значений:\", data.romantic.nunique())\n",
    "print(data.romantic.value_counts())\n",
    "data.loc[:, ['romantic']].info()"
   ]
  },
  {
   "cell_type": "code",
   "execution_count": 38,
   "id": "72624c0d",
   "metadata": {},
   "outputs": [
    {
     "name": "stdout",
     "output_type": "stream",
     "text": [
      "Количество уникальных значений: 6\n",
      " 4.0    182\n",
      " 5.0     99\n",
      " 3.0     62\n",
      " 2.0     17\n",
      " 1.0      7\n",
      "-1.0      1\n",
      "Name: famrel, dtype: int64\n",
      "Количество уникальных значений: 5\n",
      "4.0    182\n",
      "5.0     99\n",
      "3.0     62\n",
      "2.0     17\n",
      "1.0      8\n",
      "Name: famrel, dtype: int64\n",
      "<class 'pandas.core.frame.DataFrame'>\n",
      "RangeIndex: 395 entries, 0 to 394\n",
      "Data columns (total 1 columns):\n",
      " #   Column  Non-Null Count  Dtype  \n",
      "---  ------  --------------  -----  \n",
      " 0   famrel  368 non-null    float64\n",
      "dtypes: float64(1)\n",
      "memory usage: 3.2 KB\n"
     ]
    }
   ],
   "source": [
    "# famrel\n",
    "print(\"Количество уникальных значений:\", data.famrel.nunique())\n",
    "print(data.famrel.value_counts())\n",
    "# значения должны быть от 1 до 5, видим, что есть значение -1, можно удалить\n",
    "# или заменим на 1\n",
    "data.famrel = data.famrel.apply(lambda x: 1 if x == -1 else x)\n",
    "print(\"Количество уникальных значений:\", data.famrel.nunique())\n",
    "print(data.famrel.value_counts())\n",
    "data.loc[:, ['famrel']].info()"
   ]
  },
  {
   "cell_type": "code",
   "execution_count": 39,
   "id": "d4855b0a",
   "metadata": {},
   "outputs": [
    {
     "name": "stdout",
     "output_type": "stream",
     "text": [
      "4.0    209\n",
      "5.0     99\n",
      "3.0     62\n",
      "2.0     17\n",
      "1.0      8\n",
      "Name: famrel, dtype: int64\n",
      "<class 'pandas.core.frame.DataFrame'>\n",
      "RangeIndex: 395 entries, 0 to 394\n",
      "Data columns (total 1 columns):\n",
      " #   Column  Non-Null Count  Dtype  \n",
      "---  ------  --------------  -----  \n",
      " 0   famrel  395 non-null    float64\n",
      "dtypes: float64(1)\n",
      "memory usage: 3.2 KB\n"
     ]
    }
   ],
   "source": [
    "# узнаем среднее значение и округлим\n",
    "mean = round(data.famrel.mean())\n",
    "# заменим пропуски на среднее\n",
    "data.famrel = data.famrel.apply(lambda x: mean if np.isnan(x) else x)\n",
    "print(data.famrel.value_counts())\n",
    "data.loc[:, ['famrel']].info()"
   ]
  },
  {
   "cell_type": "code",
   "execution_count": 40,
   "id": "3245c8fe",
   "metadata": {},
   "outputs": [
    {
     "name": "stdout",
     "output_type": "stream",
     "text": [
      "Количество уникальных значений: 5\n",
      "3.0    153\n",
      "4.0    112\n",
      "2.0     63\n",
      "5.0     38\n",
      "1.0     18\n",
      "Name: freetime, dtype: int64\n",
      "<class 'pandas.core.frame.DataFrame'>\n",
      "RangeIndex: 395 entries, 0 to 394\n",
      "Data columns (total 1 columns):\n",
      " #   Column    Non-Null Count  Dtype  \n",
      "---  ------    --------------  -----  \n",
      " 0   freetime  384 non-null    float64\n",
      "dtypes: float64(1)\n",
      "memory usage: 3.2 KB\n"
     ]
    }
   ],
   "source": [
    "# freetime\n",
    "print(\"Количество уникальных значений:\", data.freetime.nunique())\n",
    "print(data.freetime.value_counts())\n",
    "data.loc[:, ['freetime']].info()"
   ]
  },
  {
   "cell_type": "code",
   "execution_count": 41,
   "id": "60ea45b9",
   "metadata": {},
   "outputs": [
    {
     "name": "stdout",
     "output_type": "stream",
     "text": [
      "3.0    164\n",
      "4.0    112\n",
      "2.0     63\n",
      "5.0     38\n",
      "1.0     18\n",
      "Name: freetime, dtype: int64\n",
      "<class 'pandas.core.frame.DataFrame'>\n",
      "RangeIndex: 395 entries, 0 to 394\n",
      "Data columns (total 1 columns):\n",
      " #   Column    Non-Null Count  Dtype  \n",
      "---  ------    --------------  -----  \n",
      " 0   freetime  395 non-null    float64\n",
      "dtypes: float64(1)\n",
      "memory usage: 3.2 KB\n"
     ]
    }
   ],
   "source": [
    "# узнаем среднее значение и округлим\n",
    "mean = round(data.freetime.mean())\n",
    "# заменим пропуски на среднее\n",
    "data.freetime = data.freetime.apply(lambda x: mean if np.isnan(x) else x)\n",
    "print(data.freetime.value_counts())\n",
    "data.loc[:, ['freetime']].info()"
   ]
  },
  {
   "cell_type": "code",
   "execution_count": 42,
   "id": "386044d9",
   "metadata": {},
   "outputs": [
    {
     "name": "stdout",
     "output_type": "stream",
     "text": [
      "Количество уникальных значений: 4\n",
      "-6.0     194\n",
      "-3.0     103\n",
      "-9.0      64\n",
      "-12.0     27\n",
      "Name: studytime_granular, dtype: int64\n",
      "<class 'pandas.core.frame.DataFrame'>\n",
      "RangeIndex: 395 entries, 0 to 394\n",
      "Data columns (total 1 columns):\n",
      " #   Column              Non-Null Count  Dtype  \n",
      "---  ------              --------------  -----  \n",
      " 0   studytime_granular  388 non-null    float64\n",
      "dtypes: float64(1)\n",
      "memory usage: 3.2 KB\n"
     ]
    }
   ],
   "source": [
    "# studytime_granular, в описании нет этой колонки\n",
    "print(\"Количество уникальных значений:\", data.studytime_granular.nunique())\n",
    "print(data.studytime_granular.value_counts())\n",
    "data.loc[:, ['studytime_granular']].info()"
   ]
  },
  {
   "cell_type": "code",
   "execution_count": 43,
   "id": "1a4325ac",
   "metadata": {},
   "outputs": [
    {
     "name": "stdout",
     "output_type": "stream",
     "text": [
      "-6.0     201\n",
      "-3.0     103\n",
      "-9.0      64\n",
      "-12.0     27\n",
      "Name: studytime_granular, dtype: int64\n",
      "<class 'pandas.core.frame.DataFrame'>\n",
      "RangeIndex: 395 entries, 0 to 394\n",
      "Data columns (total 1 columns):\n",
      " #   Column              Non-Null Count  Dtype  \n",
      "---  ------              --------------  -----  \n",
      " 0   studytime_granular  395 non-null    float64\n",
      "dtypes: float64(1)\n",
      "memory usage: 3.2 KB\n"
     ]
    }
   ],
   "source": [
    "# не знаем, что это за числа, заменим пропуски на часто встречающееся, это -6\n",
    "data.studytime_granular = data.studytime_granular.apply(\n",
    "    lambda x: -6 if np.isnan(x) else x)\n",
    "print(data.studytime_granular.value_counts())\n",
    "data.loc[:, ['studytime_granular']].info()"
   ]
  },
  {
   "cell_type": "code",
   "execution_count": 44,
   "id": "5d74162b",
   "metadata": {},
   "outputs": [
    {
     "name": "stdout",
     "output_type": "stream",
     "text": [
      "Количество уникальных значений: 5\n",
      "3.0    127\n",
      "2.0    101\n",
      "4.0     84\n",
      "5.0     52\n",
      "1.0     23\n",
      "Name: goout, dtype: int64\n",
      "<class 'pandas.core.frame.DataFrame'>\n",
      "RangeIndex: 395 entries, 0 to 394\n",
      "Data columns (total 1 columns):\n",
      " #   Column  Non-Null Count  Dtype  \n",
      "---  ------  --------------  -----  \n",
      " 0   goout   387 non-null    float64\n",
      "dtypes: float64(1)\n",
      "memory usage: 3.2 KB\n"
     ]
    }
   ],
   "source": [
    "# goout\n",
    "print(\"Количество уникальных значений:\", data.goout.nunique())\n",
    "print(data.goout.value_counts())\n",
    "data.loc[:, ['goout']].info()"
   ]
  },
  {
   "cell_type": "code",
   "execution_count": 45,
   "id": "17869402",
   "metadata": {},
   "outputs": [
    {
     "name": "stdout",
     "output_type": "stream",
     "text": [
      "3.0    135\n",
      "2.0    101\n",
      "4.0     84\n",
      "5.0     52\n",
      "1.0     23\n",
      "Name: goout, dtype: int64\n",
      "<class 'pandas.core.frame.DataFrame'>\n",
      "RangeIndex: 395 entries, 0 to 394\n",
      "Data columns (total 1 columns):\n",
      " #   Column  Non-Null Count  Dtype  \n",
      "---  ------  --------------  -----  \n",
      " 0   goout   395 non-null    float64\n",
      "dtypes: float64(1)\n",
      "memory usage: 3.2 KB\n"
     ]
    }
   ],
   "source": [
    "# узнаем среднее значение и округлим\n",
    "mean = round(data.goout.mean())\n",
    "# заменим пропуски на среднее\n",
    "data.goout = data.goout.apply(lambda x: mean if np.isnan(x) else x)\n",
    "print(data.goout.value_counts())\n",
    "data.loc[:, ['goout']].info()"
   ]
  },
  {
   "cell_type": "code",
   "execution_count": 46,
   "id": "69f8942d",
   "metadata": {},
   "outputs": [
    {
     "name": "stdout",
     "output_type": "stream",
     "text": [
      "Количество уникальных значений: 5\n",
      "5.0    138\n",
      "3.0     89\n",
      "4.0     63\n",
      "1.0     47\n",
      "2.0     43\n",
      "Name: health, dtype: int64\n",
      "<class 'pandas.core.frame.DataFrame'>\n",
      "RangeIndex: 395 entries, 0 to 394\n",
      "Data columns (total 1 columns):\n",
      " #   Column  Non-Null Count  Dtype  \n",
      "---  ------  --------------  -----  \n",
      " 0   health  380 non-null    float64\n",
      "dtypes: float64(1)\n",
      "memory usage: 3.2 KB\n"
     ]
    }
   ],
   "source": [
    "# health\n",
    "print(\"Количество уникальных значений:\", data.health.nunique())\n",
    "print(data.health.value_counts())\n",
    "data.loc[:, ['health']].info()"
   ]
  },
  {
   "cell_type": "code",
   "execution_count": 47,
   "id": "103f9748",
   "metadata": {},
   "outputs": [
    {
     "name": "stdout",
     "output_type": "stream",
     "text": [
      "Количество уникальных значений: 36\n",
      "0.0      111\n",
      "2.0       60\n",
      "4.0       53\n",
      "6.0       31\n",
      "8.0       21\n",
      "10.0      17\n",
      "14.0      12\n",
      "12.0      12\n",
      "3.0        8\n",
      "16.0       7\n",
      "7.0        6\n",
      "18.0       5\n",
      "5.0        5\n",
      "20.0       4\n",
      "9.0        3\n",
      "22.0       3\n",
      "1.0        3\n",
      "13.0       2\n",
      "15.0       2\n",
      "11.0       2\n",
      "40.0       1\n",
      "38.0       1\n",
      "56.0       1\n",
      "23.0       1\n",
      "24.0       1\n",
      "25.0       1\n",
      "385.0      1\n",
      "17.0       1\n",
      "75.0       1\n",
      "21.0       1\n",
      "212.0      1\n",
      "28.0       1\n",
      "19.0       1\n",
      "26.0       1\n",
      "30.0       1\n",
      "54.0       1\n",
      "Name: absences, dtype: int64\n",
      "<class 'pandas.core.frame.DataFrame'>\n",
      "RangeIndex: 395 entries, 0 to 394\n",
      "Data columns (total 1 columns):\n",
      " #   Column    Non-Null Count  Dtype  \n",
      "---  ------    --------------  -----  \n",
      " 0   absences  383 non-null    float64\n",
      "dtypes: float64(1)\n",
      "memory usage: 3.2 KB\n"
     ]
    }
   ],
   "source": [
    "# absences\n",
    "print(\"Количество уникальных значений:\", data.absences.nunique())\n",
    "print(data.absences.value_counts())\n",
    "data.loc[:, ['absences']].info()"
   ]
  },
  {
   "cell_type": "code",
   "execution_count": 48,
   "id": "e4ec39b2",
   "metadata": {},
   "outputs": [
    {
     "name": "stdout",
     "output_type": "stream",
     "text": [
      "<class 'pandas.core.frame.DataFrame'>\n",
      "RangeIndex: 395 entries, 0 to 394\n",
      "Data columns (total 1 columns):\n",
      " #   Column    Non-Null Count  Dtype  \n",
      "---  ------    --------------  -----  \n",
      " 0   absences  395 non-null    float64\n",
      "dtypes: float64(1)\n",
      "memory usage: 3.2 KB\n"
     ]
    }
   ],
   "source": [
    "# заменим пропуски на 0, будто не было пропусков занятий\n",
    "data.absences = data.absences.apply(lambda x: 0 if np.isnan(x) else x)\n",
    "data.loc[:, ['absences']].info()"
   ]
  },
  {
   "cell_type": "code",
   "execution_count": 49,
   "id": "b9660225",
   "metadata": {},
   "outputs": [
    {
     "name": "stdout",
     "output_type": "stream",
     "text": [
      "Количество уникальных значений: 18\n",
      "50.0     54\n",
      "55.0     46\n",
      "0.0      37\n",
      "75.0     33\n",
      "65.0     31\n",
      "60.0     31\n",
      "40.0     31\n",
      "45.0     27\n",
      "70.0     27\n",
      "80.0     16\n",
      "30.0     15\n",
      "90.0     12\n",
      "35.0      9\n",
      "25.0      7\n",
      "85.0      6\n",
      "95.0      5\n",
      "20.0      1\n",
      "100.0     1\n",
      "Name: score, dtype: int64\n",
      "<class 'pandas.core.frame.DataFrame'>\n",
      "RangeIndex: 395 entries, 0 to 394\n",
      "Data columns (total 1 columns):\n",
      " #   Column  Non-Null Count  Dtype  \n",
      "---  ------  --------------  -----  \n",
      " 0   score   389 non-null    float64\n",
      "dtypes: float64(1)\n",
      "memory usage: 3.2 KB\n"
     ]
    }
   ],
   "source": [
    "# score\n",
    "print(\"Количество уникальных значений:\", data.score.nunique())\n",
    "print(data.score.value_counts())\n",
    "data.loc[:, ['score']].info()"
   ]
  },
  {
   "cell_type": "code",
   "execution_count": 50,
   "id": "bee3c202",
   "metadata": {},
   "outputs": [
    {
     "name": "stdout",
     "output_type": "stream",
     "text": [
      "50.0     54\n",
      "55.0     46\n",
      "0.0      37\n",
      "75.0     33\n",
      "65.0     31\n",
      "60.0     31\n",
      "40.0     31\n",
      "45.0     27\n",
      "70.0     27\n",
      "80.0     16\n",
      "30.0     15\n",
      "90.0     12\n",
      "35.0      9\n",
      "25.0      7\n",
      "52.0      6\n",
      "85.0      6\n",
      "95.0      5\n",
      "20.0      1\n",
      "100.0     1\n",
      "Name: score, dtype: int64\n",
      "<class 'pandas.core.frame.DataFrame'>\n",
      "RangeIndex: 395 entries, 0 to 394\n",
      "Data columns (total 1 columns):\n",
      " #   Column  Non-Null Count  Dtype  \n",
      "---  ------  --------------  -----  \n",
      " 0   score   395 non-null    float64\n",
      "dtypes: float64(1)\n",
      "memory usage: 3.2 KB\n"
     ]
    }
   ],
   "source": [
    "# узнаем среднее значение и округлим\n",
    "mean = round(data.score.mean())\n",
    "# заменим пропуски на среднее\n",
    "data.score = data.score.apply(lambda x: mean if np.isnan(x) else x)\n",
    "print(data.score.value_counts())\n",
    "data.loc[:, ['score']].info()"
   ]
  },
  {
   "cell_type": "code",
   "execution_count": 51,
   "id": "41151746",
   "metadata": {},
   "outputs": [
    {
     "data": {
      "text/html": [
       "<div>\n",
       "<style scoped>\n",
       "    .dataframe tbody tr th:only-of-type {\n",
       "        vertical-align: middle;\n",
       "    }\n",
       "\n",
       "    .dataframe tbody tr th {\n",
       "        vertical-align: top;\n",
       "    }\n",
       "\n",
       "    .dataframe thead th {\n",
       "        text-align: right;\n",
       "    }\n",
       "</style>\n",
       "<table border=\"1\" class=\"dataframe\">\n",
       "  <thead>\n",
       "    <tr style=\"text-align: right;\">\n",
       "      <th></th>\n",
       "      <th>age</th>\n",
       "      <th>medu</th>\n",
       "      <th>fedu</th>\n",
       "      <th>traveltime</th>\n",
       "      <th>studytime</th>\n",
       "      <th>failures</th>\n",
       "      <th>studytime_granular</th>\n",
       "      <th>famrel</th>\n",
       "      <th>freetime</th>\n",
       "      <th>goout</th>\n",
       "      <th>health</th>\n",
       "      <th>absences</th>\n",
       "      <th>score</th>\n",
       "    </tr>\n",
       "  </thead>\n",
       "  <tbody>\n",
       "    <tr>\n",
       "      <th>age</th>\n",
       "      <td>1.000000</td>\n",
       "      <td>-0.161375</td>\n",
       "      <td>-0.161869</td>\n",
       "      <td>0.084755</td>\n",
       "      <td>-0.015355</td>\n",
       "      <td>0.228081</td>\n",
       "      <td>0.015355</td>\n",
       "      <td>0.065250</td>\n",
       "      <td>0.026443</td>\n",
       "      <td>0.134069</td>\n",
       "      <td>-0.065946</td>\n",
       "      <td>0.090515</td>\n",
       "      <td>-0.153481</td>\n",
       "    </tr>\n",
       "    <tr>\n",
       "      <th>medu</th>\n",
       "      <td>-0.161375</td>\n",
       "      <td>1.000000</td>\n",
       "      <td>0.606656</td>\n",
       "      <td>-0.160877</td>\n",
       "      <td>0.077050</td>\n",
       "      <td>-0.245110</td>\n",
       "      <td>-0.077050</td>\n",
       "      <td>-0.013853</td>\n",
       "      <td>0.026210</td>\n",
       "      <td>0.063361</td>\n",
       "      <td>-0.045463</td>\n",
       "      <td>-0.009754</td>\n",
       "      <td>0.207583</td>\n",
       "    </tr>\n",
       "    <tr>\n",
       "      <th>fedu</th>\n",
       "      <td>-0.161869</td>\n",
       "      <td>0.606656</td>\n",
       "      <td>1.000000</td>\n",
       "      <td>-0.141115</td>\n",
       "      <td>0.016611</td>\n",
       "      <td>-0.259788</td>\n",
       "      <td>-0.016611</td>\n",
       "      <td>-0.026083</td>\n",
       "      <td>-0.016259</td>\n",
       "      <td>0.042385</td>\n",
       "      <td>0.030726</td>\n",
       "      <td>0.017405</td>\n",
       "      <td>0.123559</td>\n",
       "    </tr>\n",
       "    <tr>\n",
       "      <th>traveltime</th>\n",
       "      <td>0.084755</td>\n",
       "      <td>-0.160877</td>\n",
       "      <td>-0.141115</td>\n",
       "      <td>1.000000</td>\n",
       "      <td>-0.094637</td>\n",
       "      <td>0.049670</td>\n",
       "      <td>0.094637</td>\n",
       "      <td>-0.019040</td>\n",
       "      <td>-0.012496</td>\n",
       "      <td>0.051775</td>\n",
       "      <td>-0.046027</td>\n",
       "      <td>-0.036597</td>\n",
       "      <td>-0.056016</td>\n",
       "    </tr>\n",
       "    <tr>\n",
       "      <th>studytime</th>\n",
       "      <td>-0.015355</td>\n",
       "      <td>0.077050</td>\n",
       "      <td>0.016611</td>\n",
       "      <td>-0.094637</td>\n",
       "      <td>1.000000</td>\n",
       "      <td>-0.166598</td>\n",
       "      <td>-1.000000</td>\n",
       "      <td>0.037638</td>\n",
       "      <td>-0.119014</td>\n",
       "      <td>-0.051090</td>\n",
       "      <td>-0.079415</td>\n",
       "      <td>-0.024824</td>\n",
       "      <td>0.114074</td>\n",
       "    </tr>\n",
       "    <tr>\n",
       "      <th>failures</th>\n",
       "      <td>0.228081</td>\n",
       "      <td>-0.245110</td>\n",
       "      <td>-0.259788</td>\n",
       "      <td>0.049670</td>\n",
       "      <td>-0.166598</td>\n",
       "      <td>1.000000</td>\n",
       "      <td>0.166598</td>\n",
       "      <td>-0.017230</td>\n",
       "      <td>0.094826</td>\n",
       "      <td>0.113649</td>\n",
       "      <td>0.078668</td>\n",
       "      <td>0.053869</td>\n",
       "      <td>-0.328451</td>\n",
       "    </tr>\n",
       "    <tr>\n",
       "      <th>studytime_granular</th>\n",
       "      <td>0.015355</td>\n",
       "      <td>-0.077050</td>\n",
       "      <td>-0.016611</td>\n",
       "      <td>0.094637</td>\n",
       "      <td>-1.000000</td>\n",
       "      <td>0.166598</td>\n",
       "      <td>1.000000</td>\n",
       "      <td>-0.037638</td>\n",
       "      <td>0.119014</td>\n",
       "      <td>0.051090</td>\n",
       "      <td>0.079415</td>\n",
       "      <td>0.024824</td>\n",
       "      <td>-0.114074</td>\n",
       "    </tr>\n",
       "    <tr>\n",
       "      <th>famrel</th>\n",
       "      <td>0.065250</td>\n",
       "      <td>-0.013853</td>\n",
       "      <td>-0.026083</td>\n",
       "      <td>-0.019040</td>\n",
       "      <td>0.037638</td>\n",
       "      <td>-0.017230</td>\n",
       "      <td>-0.037638</td>\n",
       "      <td>1.000000</td>\n",
       "      <td>0.165324</td>\n",
       "      <td>0.074217</td>\n",
       "      <td>0.084233</td>\n",
       "      <td>-0.078678</td>\n",
       "      <td>0.052626</td>\n",
       "    </tr>\n",
       "    <tr>\n",
       "      <th>freetime</th>\n",
       "      <td>0.026443</td>\n",
       "      <td>0.026210</td>\n",
       "      <td>-0.016259</td>\n",
       "      <td>-0.012496</td>\n",
       "      <td>-0.119014</td>\n",
       "      <td>0.094826</td>\n",
       "      <td>0.119014</td>\n",
       "      <td>0.165324</td>\n",
       "      <td>1.000000</td>\n",
       "      <td>0.292305</td>\n",
       "      <td>0.059810</td>\n",
       "      <td>0.006355</td>\n",
       "      <td>0.017298</td>\n",
       "    </tr>\n",
       "    <tr>\n",
       "      <th>goout</th>\n",
       "      <td>0.134069</td>\n",
       "      <td>0.063361</td>\n",
       "      <td>0.042385</td>\n",
       "      <td>0.051775</td>\n",
       "      <td>-0.051090</td>\n",
       "      <td>0.113649</td>\n",
       "      <td>0.051090</td>\n",
       "      <td>0.074217</td>\n",
       "      <td>0.292305</td>\n",
       "      <td>1.000000</td>\n",
       "      <td>-0.015029</td>\n",
       "      <td>-0.052370</td>\n",
       "      <td>-0.127048</td>\n",
       "    </tr>\n",
       "    <tr>\n",
       "      <th>health</th>\n",
       "      <td>-0.065946</td>\n",
       "      <td>-0.045463</td>\n",
       "      <td>0.030726</td>\n",
       "      <td>-0.046027</td>\n",
       "      <td>-0.079415</td>\n",
       "      <td>0.078668</td>\n",
       "      <td>0.079415</td>\n",
       "      <td>0.084233</td>\n",
       "      <td>0.059810</td>\n",
       "      <td>-0.015029</td>\n",
       "      <td>1.000000</td>\n",
       "      <td>-0.015054</td>\n",
       "      <td>-0.070237</td>\n",
       "    </tr>\n",
       "    <tr>\n",
       "      <th>absences</th>\n",
       "      <td>0.090515</td>\n",
       "      <td>-0.009754</td>\n",
       "      <td>0.017405</td>\n",
       "      <td>-0.036597</td>\n",
       "      <td>-0.024824</td>\n",
       "      <td>0.053869</td>\n",
       "      <td>0.024824</td>\n",
       "      <td>-0.078678</td>\n",
       "      <td>0.006355</td>\n",
       "      <td>-0.052370</td>\n",
       "      <td>-0.015054</td>\n",
       "      <td>1.000000</td>\n",
       "      <td>0.060941</td>\n",
       "    </tr>\n",
       "    <tr>\n",
       "      <th>score</th>\n",
       "      <td>-0.153481</td>\n",
       "      <td>0.207583</td>\n",
       "      <td>0.123559</td>\n",
       "      <td>-0.056016</td>\n",
       "      <td>0.114074</td>\n",
       "      <td>-0.328451</td>\n",
       "      <td>-0.114074</td>\n",
       "      <td>0.052626</td>\n",
       "      <td>0.017298</td>\n",
       "      <td>-0.127048</td>\n",
       "      <td>-0.070237</td>\n",
       "      <td>0.060941</td>\n",
       "      <td>1.000000</td>\n",
       "    </tr>\n",
       "  </tbody>\n",
       "</table>\n",
       "</div>"
      ],
      "text/plain": [
       "                         age      medu      fedu  traveltime  studytime  \\\n",
       "age                 1.000000 -0.161375 -0.161869    0.084755  -0.015355   \n",
       "medu               -0.161375  1.000000  0.606656   -0.160877   0.077050   \n",
       "fedu               -0.161869  0.606656  1.000000   -0.141115   0.016611   \n",
       "traveltime          0.084755 -0.160877 -0.141115    1.000000  -0.094637   \n",
       "studytime          -0.015355  0.077050  0.016611   -0.094637   1.000000   \n",
       "failures            0.228081 -0.245110 -0.259788    0.049670  -0.166598   \n",
       "studytime_granular  0.015355 -0.077050 -0.016611    0.094637  -1.000000   \n",
       "famrel              0.065250 -0.013853 -0.026083   -0.019040   0.037638   \n",
       "freetime            0.026443  0.026210 -0.016259   -0.012496  -0.119014   \n",
       "goout               0.134069  0.063361  0.042385    0.051775  -0.051090   \n",
       "health             -0.065946 -0.045463  0.030726   -0.046027  -0.079415   \n",
       "absences            0.090515 -0.009754  0.017405   -0.036597  -0.024824   \n",
       "score              -0.153481  0.207583  0.123559   -0.056016   0.114074   \n",
       "\n",
       "                    failures  studytime_granular    famrel  freetime  \\\n",
       "age                 0.228081            0.015355  0.065250  0.026443   \n",
       "medu               -0.245110           -0.077050 -0.013853  0.026210   \n",
       "fedu               -0.259788           -0.016611 -0.026083 -0.016259   \n",
       "traveltime          0.049670            0.094637 -0.019040 -0.012496   \n",
       "studytime          -0.166598           -1.000000  0.037638 -0.119014   \n",
       "failures            1.000000            0.166598 -0.017230  0.094826   \n",
       "studytime_granular  0.166598            1.000000 -0.037638  0.119014   \n",
       "famrel             -0.017230           -0.037638  1.000000  0.165324   \n",
       "freetime            0.094826            0.119014  0.165324  1.000000   \n",
       "goout               0.113649            0.051090  0.074217  0.292305   \n",
       "health              0.078668            0.079415  0.084233  0.059810   \n",
       "absences            0.053869            0.024824 -0.078678  0.006355   \n",
       "score              -0.328451           -0.114074  0.052626  0.017298   \n",
       "\n",
       "                       goout    health  absences     score  \n",
       "age                 0.134069 -0.065946  0.090515 -0.153481  \n",
       "medu                0.063361 -0.045463 -0.009754  0.207583  \n",
       "fedu                0.042385  0.030726  0.017405  0.123559  \n",
       "traveltime          0.051775 -0.046027 -0.036597 -0.056016  \n",
       "studytime          -0.051090 -0.079415 -0.024824  0.114074  \n",
       "failures            0.113649  0.078668  0.053869 -0.328451  \n",
       "studytime_granular  0.051090  0.079415  0.024824 -0.114074  \n",
       "famrel              0.074217  0.084233 -0.078678  0.052626  \n",
       "freetime            0.292305  0.059810  0.006355  0.017298  \n",
       "goout               1.000000 -0.015029 -0.052370 -0.127048  \n",
       "health             -0.015029  1.000000 -0.015054 -0.070237  \n",
       "absences           -0.052370 -0.015054  1.000000  0.060941  \n",
       "score              -0.127048 -0.070237  0.060941  1.000000  "
      ]
     },
     "execution_count": 51,
     "metadata": {},
     "output_type": "execute_result"
    }
   ],
   "source": [
    "# Выясним, какие столбцы коррелируют с баллами по госэкзамену.\n",
    "data.corr()"
   ]
  },
  {
   "cell_type": "code",
   "execution_count": 52,
   "id": "1643b321",
   "metadata": {},
   "outputs": [],
   "source": [
    "# score не коррелирует с age, traveltime, failures, studytime_granular, goout, health\n",
    "# score наиболее сильно корреллирует с medu, fedu, studytime\n",
    "# Возмножно на оценку на госэкзамене влияет образование родителей, а также время на учёбу помимо школы в неделю\n",
    "# Есть вероятность, что те студенты, у которых родители с плохим образованием \n",
    "# и которые не тратят время на учебу помимо школы, попадут в группу риска"
   ]
  },
  {
   "cell_type": "code",
   "execution_count": 53,
   "id": "008079fb",
   "metadata": {},
   "outputs": [],
   "source": [
    "# для номинативных переменных можно посмотреть,\n",
    "# различаются ли распределения рейтинга в зависимости от значения этих переменных\n",
    "def get_boxplot(column):\n",
    "    fig, ax = plt.subplots(figsize=(14, 4))\n",
    "    sns.boxplot(x=column, y='score',\n",
    "                data=data.loc[data.loc[:, column].isin(data.loc[:, column])],\n",
    "                ax=ax)\n",
    "    plt.xticks(rotation=45)\n",
    "    ax.set_title('Boxplot for ' + column)\n",
    "    plt.show()"
   ]
  },
  {
   "cell_type": "code",
   "execution_count": 54,
   "id": "852e1d8b",
   "metadata": {},
   "outputs": [
    {
     "data": {
      "image/png": "[encoded data removed]",
      "text/plain": [
       "<Figure size 1008x288 with 1 Axes>"
      ]
     },
     "metadata": {
      "needs_background": "light"
     },
     "output_type": "display_data"
    },
    {
     "data": {
      "image/png": "[encoded data removed]",
      "text/plain": [
       "<Figure size 1008x288 with 1 Axes>"
      ]
     },
     "metadata": {
      "needs_background": "light"
     },
     "output_type": "display_data"
    },
    {
     "data": {
      "image/png": "[encoded data removed]",
      "text/plain": [
       "<Figure size 1008x288 with 1 Axes>"
      ]
     },
     "metadata": {
      "needs_background": "light"
     },
     "output_type": "display_data"
    },
    {
     "data": {
      "image/png": "[encoded data removed]",
      "text/plain": [
       "<Figure size 1008x288 with 1 Axes>"
      ]
     },
     "metadata": {
      "needs_background": "light"
     },
     "output_type": "display_data"
    },
    {
     "data": {
      "image/png": "[encoded data removed]",
      "text/plain": [
       "<Figure size 1008x288 with 1 Axes>"
      ]
     },
     "metadata": {
      "needs_background": "light"
     },
     "output_type": "display_data"
    },
    {
     "data": {
      "image/png": "[encoded data removed]",
      "text/plain": [
       "<Figure size 1008x288 with 1 Axes>"
      ]
     },
     "metadata": {
      "needs_background": "light"
     },
     "output_type": "display_data"
    },
    {
     "data": {
      "image/png": "[encoded data removed]",
      "text/plain": [
       "<Figure size 1008x288 with 1 Axes>"
      ]
     },
     "metadata": {
      "needs_background": "light"
     },
     "output_type": "display_data"
    },
    {
     "data": {
      "image/png": "[encoded data removed]",
      "text/plain": [
       "<Figure size 1008x288 with 1 Axes>"
      ]
     },
     "metadata": {
      "needs_background": "light"
     },
     "output_type": "display_data"
    },
    {
     "data": {
      "image/png": "[encoded data removed]",
      "text/plain": [
       "<Figure size 1008x288 with 1 Axes>"
      ]
     },
     "metadata": {
      "needs_background": "light"
     },
     "output_type": "display_data"
    },
    {
     "data": {
      "image/png": "[encoded data removed]",
      "text/plain": [
       "<Figure size 1008x288 with 1 Axes>"
      ]
     },
     "metadata": {
      "needs_background": "light"
     },
     "output_type": "display_data"
    },
    {
     "data": {
      "image/png": "[encoded data removed]",
      "text/plain": [
       "<Figure size 1008x288 with 1 Axes>"
      ]
     },
     "metadata": {
      "needs_background": "light"
     },
     "output_type": "display_data"
    },
    {
     "data": {
      "image/png": "[encoded data removed]",
      "text/plain": [
       "<Figure size 1008x288 with 1 Axes>"
      ]
     },
     "metadata": {
      "needs_background": "light"
     },
     "output_type": "display_data"
    },
    {
     "data": {
      "image/png": "[encoded data removed]",
      "text/plain": [
       "<Figure size 1008x288 with 1 Axes>"
      ]
     },
     "metadata": {
      "needs_background": "light"
     },
     "output_type": "display_data"
    },
    {
     "data": {
      "image/png": "[encoded data removed]",
      "text/plain": [
       "<Figure size 1008x288 with 1 Axes>"
      ]
     },
     "metadata": {
      "needs_background": "light"
     },
     "output_type": "display_data"
    },
    {
     "data": {
      "image/png": "[encoded data removed]",
      "text/plain": [
       "<Figure size 1008x288 with 1 Axes>"
      ]
     },
     "metadata": {
      "needs_background": "light"
     },
     "output_type": "display_data"
    },
    {
     "data": {
      "image/png": "[encoded data removed]",
      "text/plain": [
       "<Figure size 1008x288 with 1 Axes>"
      ]
     },
     "metadata": {
      "needs_background": "light"
     },
     "output_type": "display_data"
    },
    {
     "data": {
      "image/png": "[encoded data removed]",
      "text/plain": [
       "<Figure size 1008x288 with 1 Axes>"
      ]
     },
     "metadata": {
      "needs_background": "light"
     },
     "output_type": "display_data"
    }
   ],
   "source": [
    "for col in ['school', 'sex', 'address', 'famsize', 'pstatus', 'mjob', 'fjob', 'reason', 'guardian', 'schoolsup',\n",
    "            'famsup', 'paid', 'activities', 'nursery', 'higher', 'internet', 'romantic']:\n",
    "    get_boxplot(col)"
   ]
  },
  {
   "cell_type": "code",
   "execution_count": 55,
   "id": "35b07c0d",
   "metadata": {},
   "outputs": [],
   "source": [
    "# Проверим, есть ли статистическая разница по номинативным признакам, с помощью теста Стьюдента\n",
    "def get_stat_dif(column):\n",
    "    cols = data.loc[:, column].value_counts()\n",
    "    combinations_all = list(combinations(cols, 2))\n",
    "    for comb in combinations_all:\n",
    "        if ttest_ind(data.loc[data.loc[:, column] == comb[0], 'score'],\n",
    "                     data.loc[data.loc[:, column] == comb[1], 'score']).pvalue \\\n",
    "                <= 0.05/len(combinations_all):  # Учли поправку Бонферони\n",
    "            print('Найдены статистически значимые различия для колонки', column)\n",
    "        else:\n",
    "            print('Не найдены различия для колонки', column)\n",
    "            break"
   ]
  },
  {
   "cell_type": "code",
   "execution_count": 56,
   "id": "bc570ab0",
   "metadata": {},
   "outputs": [
    {
     "name": "stdout",
     "output_type": "stream",
     "text": [
      "Не найдены различия для колонки school\n",
      "Не найдены различия для колонки sex\n",
      "Не найдены различия для колонки address\n",
      "Не найдены различия для колонки famsize\n",
      "Не найдены различия для колонки pstatus\n",
      "Не найдены различия для колонки mjob\n",
      "Не найдены различия для колонки fjob\n",
      "Не найдены различия для колонки reason\n",
      "Не найдены различия для колонки guardian\n",
      "Не найдены различия для колонки schoolsup\n",
      "Не найдены различия для колонки famsup\n",
      "Не найдены различия для колонки paid\n",
      "Не найдены различия для колонки activities\n",
      "Не найдены различия для колонки nursery\n",
      "Не найдены различия для колонки higher\n",
      "Не найдены различия для колонки internet\n",
      "Не найдены различия для колонки romantic\n"
     ]
    }
   ],
   "source": [
    "for col in ['school', 'sex', 'address', 'famsize', 'pstatus', 'mjob', 'fjob', 'reason', 'guardian', 'schoolsup',\n",
    "            'famsup', 'paid', 'activities', 'nursery', 'higher', 'internet', 'romantic']:\n",
    "    get_stat_dif(col)"
   ]
  },
  {
   "cell_type": "code",
   "execution_count": 57,
   "id": "1efecb1f",
   "metadata": {},
   "outputs": [],
   "source": [
    "# Важные переменные, которые, возможно, оказывают влияние на оценку, это - medu, fedu, studytime"
   ]
  },
  {
   "cell_type": "markdown",
   "id": "b4612c3a",
   "metadata": {},
   "source": [
    "#### В результате EDA для анализа влияния условий жизни на результаты госэкзамена по математике были получены следующие выводы:\n",
    "\n",
    "- В данных много пустых значений. Данные в большинстве случаев заполнены по среднему значению.\n",
    "- score наиболее сильно корреллирует с medu, fedu, studytime. Возмножно на оценку на госэкзамене влияет образование родителей, а также время на учёбу помимо школы в неделю. Есть вероятность, что те студенты, у которых родители с плохим образованием и которые не тратят время на учебу помимо школы, попадут в группу риска.\n",
    "- Самые важные параметры, которые предлагается использовать в дальнейшем для построения модели, это medu, fedu, studytime."
   ]
  }
 ],
 "metadata": {
  "kernelspec": {
   "display_name": "Python 3",
   "language": "python",
   "name": "python3"
  },
  "language_info": {
   "codemirror_mode": {
    "name": "ipython",
    "version": 3
   },
   "file_extension": ".py",
   "mimetype": "text/x-python",
   "name": "python",
   "nbconvert_exporter": "python",
   "pygments_lexer": "ipython3",
   "version": "3.8.8"
  }
 },
 "nbformat": 4,
 "nbformat_minor": 5
}
